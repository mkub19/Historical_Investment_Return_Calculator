{
 "cells": [
  {
   "cell_type": "markdown",
   "id": "fdc36d23",
   "metadata": {},
   "source": [
    "    HISTORICAL INVESTMENT RETURNS CALCULATOR"
   ]
  },
  {
   "cell_type": "markdown",
   "id": "f7f1a46e",
   "metadata": {},
   "source": [
    "This model calculates the historical returns of periodic investments based on real stock prices. You can test it with any U.S. stock and adjust the investment amounts and time periods to see different scenarios.\n",
    "Additionally, the model allows you to compare the performance of two stocks side by side."
   ]
  },
  {
   "cell_type": "markdown",
   "id": "5f83b92e",
   "metadata": {},
   "source": [
    "Model Limitations: This model does not account for dividends and is intended for use only with U.S. stocks and ETFs"
   ]
  },
  {
   "cell_type": "code",
   "execution_count": 2,
   "id": "9e127507",
   "metadata": {},
   "outputs": [],
   "source": [
    "import pandas as pd\n",
    "import numpy as np\n",
    "import os\n",
    "import matplotlib.pyplot as plt"
   ]
  },
  {
   "cell_type": "code",
   "execution_count": null,
   "id": "1464be8e",
   "metadata": {},
   "outputs": [],
   "source": [
    "#os.getcwd()\n",
    "#os.chdir(r\"C:\\Users\\PC\\Desktop\\python files\")"
   ]
  },
  {
   "cell_type": "markdown",
   "id": "57c1ee75",
   "metadata": {},
   "source": [
    "Select the stocks, time period, and investment amount you want to evaluate. You can find stock tickers at: https://finance.yahoo.com/"
   ]
  },
  {
   "cell_type": "markdown",
   "id": "45db413a",
   "metadata": {},
   "source": [
    "Enter your input:"
   ]
  },
  {
   "cell_type": "code",
   "execution_count": 4,
   "id": "7136c3ae",
   "metadata": {},
   "outputs": [],
   "source": [
    "#Select the stocks:\n",
    "stock1 = 'AAPL' # Apple Inc. stock ticker\n",
    "stock2 = 'NVDA' # NVIDIA Corporation ticker\n",
    "\n",
    "#Select the period:\n",
    "start_date = '2020-07-01'\n",
    "end_date = '2025-07-01'\n",
    "\n",
    "#Select the investment amount:\n",
    "initial_investment = 1000\n",
    "monthly_contribution = 200\n",
    "\n"
   ]
  },
  {
   "cell_type": "code",
   "execution_count": 5,
   "id": "f17ab86d",
   "metadata": {},
   "outputs": [
    {
     "name": "stderr",
     "output_type": "stream",
     "text": [
      "C:\\Users\\PC\\AppData\\Local\\Temp\\ipykernel_26644\\2408062814.py:5: FutureWarning: YF.download() has changed argument auto_adjust default to True\n",
      "  stock_price = yf.download([stock1, stock2], start= start_date, end= end_date, interval='1d')\n",
      "[*********************100%***********************]  2 of 2 completed\n",
      "C:\\Users\\PC\\AppData\\Local\\Temp\\ipykernel_26644\\2408062814.py:8: FutureWarning: YF.download() has changed argument auto_adjust default to True\n",
      "  rate = yf.download('EURUSD=X', start=start_date, end= end_date, interval='1d')\n",
      "[*********************100%***********************]  1 of 1 completed\n"
     ]
    }
   ],
   "source": [
    "# Getting financial data from Yahoo Finance:\n",
    "\n",
    "import yfinance as yf\n",
    "\n",
    "stock_price = yf.download([stock1, stock2], start= start_date, end= end_date, interval='1d')\n",
    "\n",
    "#This model evaluates the performance of US stocks. Therefore, we must convert EUR to USD.\n",
    "rate = yf.download('EURUSD=X', start=start_date, end= end_date, interval='1d')\n",
    "\n",
    "# Deleting irrelevant columns — for this simulation, we only need the opening price. We assume the investment is made when the market opens.\n",
    "stock_price = stock_price.drop(columns=['Close', 'High', 'Low', 'Volume'], level=0)\n",
    "rate = rate.drop(columns=['Close', 'High', 'Low', 'Volume'], level=0)\n",
    "\n",
    "data = pd.merge(stock_price, rate, on= 'Date')\n",
    "\n",
    "# In this simulation, the investment is made on the first business day of each month.\n",
    "data = data.resample('BMS').first()\n",
    "\n",
    "#Data must be sorted from oldest to newest to calculate the portfolio value.\n",
    "data = data.sort_index(ascending=True)\n"
   ]
  },
  {
   "cell_type": "code",
   "execution_count": 6,
   "id": "70ffd564",
   "metadata": {},
   "outputs": [
    {
     "data": {
      "text/html": [
       "<div>\n",
       "<style scoped>\n",
       "    .dataframe tbody tr th:only-of-type {\n",
       "        vertical-align: middle;\n",
       "    }\n",
       "\n",
       "    .dataframe tbody tr th {\n",
       "        vertical-align: top;\n",
       "    }\n",
       "\n",
       "    .dataframe thead th {\n",
       "        text-align: right;\n",
       "    }\n",
       "</style>\n",
       "<table border=\"1\" class=\"dataframe\">\n",
       "  <thead>\n",
       "    <tr style=\"text-align: right;\">\n",
       "      <th></th>\n",
       "      <th>Open_AAPL</th>\n",
       "      <th>Open_NVDA</th>\n",
       "      <th>EURUSD</th>\n",
       "      <th>investment</th>\n",
       "      <th>investment_USD</th>\n",
       "      <th>AAPL_shares_purchased</th>\n",
       "      <th>NVDA_shares_purchased</th>\n",
       "      <th>AAPL_shares_acc</th>\n",
       "      <th>NVDA_shares_acc</th>\n",
       "      <th>sum_invested</th>\n",
       "      <th>AAPL_shares_value_EUR</th>\n",
       "      <th>NVDA_shares_value_EUR</th>\n",
       "      <th>AAPL_profit</th>\n",
       "      <th>NVDA_profit</th>\n",
       "      <th>AAPL_profit_margin</th>\n",
       "      <th>NVDA_profit_margin</th>\n",
       "    </tr>\n",
       "    <tr>\n",
       "      <th>Date</th>\n",
       "      <th></th>\n",
       "      <th></th>\n",
       "      <th></th>\n",
       "      <th></th>\n",
       "      <th></th>\n",
       "      <th></th>\n",
       "      <th></th>\n",
       "      <th></th>\n",
       "      <th></th>\n",
       "      <th></th>\n",
       "      <th></th>\n",
       "      <th></th>\n",
       "      <th></th>\n",
       "      <th></th>\n",
       "      <th></th>\n",
       "      <th></th>\n",
       "    </tr>\n",
       "  </thead>\n",
       "  <tbody>\n",
       "    <tr>\n",
       "      <th>2025-02-03</th>\n",
       "      <td>229.44</td>\n",
       "      <td>114.73</td>\n",
       "      <td>1.02</td>\n",
       "      <td>200</td>\n",
       "      <td>204.0</td>\n",
       "      <td>0.89</td>\n",
       "      <td>1.78</td>\n",
       "      <td>90.81</td>\n",
       "      <td>629.61</td>\n",
       "      <td>12000</td>\n",
       "      <td>20426.91</td>\n",
       "      <td>70818.78</td>\n",
       "      <td>8426.91</td>\n",
       "      <td>58818.78</td>\n",
       "      <td>0.70</td>\n",
       "      <td>4.90</td>\n",
       "    </tr>\n",
       "    <tr>\n",
       "      <th>2025-03-03</th>\n",
       "      <td>241.47</td>\n",
       "      <td>123.49</td>\n",
       "      <td>1.04</td>\n",
       "      <td>200</td>\n",
       "      <td>208.0</td>\n",
       "      <td>0.86</td>\n",
       "      <td>1.68</td>\n",
       "      <td>91.67</td>\n",
       "      <td>631.29</td>\n",
       "      <td>12200</td>\n",
       "      <td>21284.19</td>\n",
       "      <td>74959.62</td>\n",
       "      <td>9084.19</td>\n",
       "      <td>62759.62</td>\n",
       "      <td>0.74</td>\n",
       "      <td>5.14</td>\n",
       "    </tr>\n",
       "    <tr>\n",
       "      <th>2025-04-01</th>\n",
       "      <td>219.52</td>\n",
       "      <td>108.51</td>\n",
       "      <td>1.08</td>\n",
       "      <td>200</td>\n",
       "      <td>216.0</td>\n",
       "      <td>0.98</td>\n",
       "      <td>1.99</td>\n",
       "      <td>92.65</td>\n",
       "      <td>633.28</td>\n",
       "      <td>12400</td>\n",
       "      <td>18831.97</td>\n",
       "      <td>63627.05</td>\n",
       "      <td>6431.97</td>\n",
       "      <td>51227.05</td>\n",
       "      <td>0.52</td>\n",
       "      <td>4.13</td>\n",
       "    </tr>\n",
       "    <tr>\n",
       "      <th>2025-05-01</th>\n",
       "      <td>208.81</td>\n",
       "      <td>113.07</td>\n",
       "      <td>1.13</td>\n",
       "      <td>200</td>\n",
       "      <td>226.0</td>\n",
       "      <td>1.08</td>\n",
       "      <td>2.00</td>\n",
       "      <td>93.73</td>\n",
       "      <td>635.28</td>\n",
       "      <td>12600</td>\n",
       "      <td>17320.14</td>\n",
       "      <td>63567.35</td>\n",
       "      <td>4720.14</td>\n",
       "      <td>50967.35</td>\n",
       "      <td>0.37</td>\n",
       "      <td>4.05</td>\n",
       "    </tr>\n",
       "    <tr>\n",
       "      <th>2025-06-02</th>\n",
       "      <td>200.28</td>\n",
       "      <td>135.48</td>\n",
       "      <td>1.14</td>\n",
       "      <td>200</td>\n",
       "      <td>228.0</td>\n",
       "      <td>1.14</td>\n",
       "      <td>1.68</td>\n",
       "      <td>94.87</td>\n",
       "      <td>636.96</td>\n",
       "      <td>12800</td>\n",
       "      <td>16667.16</td>\n",
       "      <td>75697.67</td>\n",
       "      <td>3867.16</td>\n",
       "      <td>62897.67</td>\n",
       "      <td>0.30</td>\n",
       "      <td>4.91</td>\n",
       "    </tr>\n",
       "  </tbody>\n",
       "</table>\n",
       "</div>"
      ],
      "text/plain": [
       "            Open_AAPL  Open_NVDA  EURUSD  investment  investment_USD  \\\n",
       "Date                                                                   \n",
       "2025-02-03     229.44     114.73    1.02         200           204.0   \n",
       "2025-03-03     241.47     123.49    1.04         200           208.0   \n",
       "2025-04-01     219.52     108.51    1.08         200           216.0   \n",
       "2025-05-01     208.81     113.07    1.13         200           226.0   \n",
       "2025-06-02     200.28     135.48    1.14         200           228.0   \n",
       "\n",
       "            AAPL_shares_purchased  NVDA_shares_purchased  AAPL_shares_acc  \\\n",
       "Date                                                                        \n",
       "2025-02-03                   0.89                   1.78            90.81   \n",
       "2025-03-03                   0.86                   1.68            91.67   \n",
       "2025-04-01                   0.98                   1.99            92.65   \n",
       "2025-05-01                   1.08                   2.00            93.73   \n",
       "2025-06-02                   1.14                   1.68            94.87   \n",
       "\n",
       "            NVDA_shares_acc  sum_invested  AAPL_shares_value_EUR  \\\n",
       "Date                                                               \n",
       "2025-02-03           629.61         12000               20426.91   \n",
       "2025-03-03           631.29         12200               21284.19   \n",
       "2025-04-01           633.28         12400               18831.97   \n",
       "2025-05-01           635.28         12600               17320.14   \n",
       "2025-06-02           636.96         12800               16667.16   \n",
       "\n",
       "            NVDA_shares_value_EUR  AAPL_profit  NVDA_profit  \\\n",
       "Date                                                          \n",
       "2025-02-03               70818.78      8426.91     58818.78   \n",
       "2025-03-03               74959.62      9084.19     62759.62   \n",
       "2025-04-01               63627.05      6431.97     51227.05   \n",
       "2025-05-01               63567.35      4720.14     50967.35   \n",
       "2025-06-02               75697.67      3867.16     62897.67   \n",
       "\n",
       "            AAPL_profit_margin  NVDA_profit_margin  \n",
       "Date                                                \n",
       "2025-02-03                0.70                4.90  \n",
       "2025-03-03                0.74                5.14  \n",
       "2025-04-01                0.52                4.13  \n",
       "2025-05-01                0.37                4.05  \n",
       "2025-06-02                0.30                4.91  "
      ]
     },
     "execution_count": 6,
     "metadata": {},
     "output_type": "execute_result"
    }
   ],
   "source": [
    "#Adding initial investment and monthly contribution to dataframe.\n",
    "months = data.shape[0] - 1\n",
    "investment = [initial_investment] + [monthly_contribution] * months\n",
    "investment_series = pd.Series(investment, index=data.index)\n",
    "\n",
    "data['investment'] = investment_series\n",
    "\n",
    "# Removing MultiIndex\n",
    "data.columns = ['_'.join(filter(None, col)).strip() for col in data.columns]\n",
    "\n",
    "#Renaming\n",
    "data = data.rename(columns={'Open_EURUSD=X': 'EURUSD'})\n",
    "\n",
    "#Using iloc to keep the model dynamic.\n",
    "data.iloc[:,0] = data.iloc[:,0].round(2)\n",
    "data.iloc[:,1] = data.iloc[:,1].round(2)\n",
    "data.iloc[:,2] = data.iloc[:,2].round(2)\n",
    "\n",
    "# Calculating how many shares purchased\n",
    "data['investment_USD'] = data['investment'] * data['EURUSD']\n",
    "data[f'{stock1}_shares_purchased'] = ((data['investment_USD'] * 0.999) / data.iloc[:,0]).round(2) # 0.1% is the brokers fee for the transaction\n",
    "data[f'{stock2}_shares_purchased'] = ((data['investment_USD'] * 0.999) / data.iloc[:,1]).round(2)\n",
    "\n",
    "# Summing the shares acquired and the total amount invested.\n",
    "data[f'{stock1}_shares_acc'] = data[f'{stock1}_shares_purchased'].cumsum()\n",
    "data[f'{stock2}_shares_acc'] = data[f'{stock2}_shares_purchased'].cumsum()\n",
    "\n",
    "data['sum_invested'] = data['investment'].cumsum()\n",
    "\n",
    "# Calculating the portfolio value in Euros.\n",
    "data[f'{stock1}_shares_value_EUR'] = ((data[f'{stock1}_shares_acc'] * data.iloc[:,0]) / data['EURUSD']).round(2)\n",
    "data[f'{stock2}_shares_value_EUR'] = ((data[f'{stock2}_shares_acc'] * data.iloc[:,1]) / data['EURUSD']).round(2)\n",
    "\n",
    "# Calculating the profit\n",
    "data[f'{stock1}_profit'] = (data[f'{stock1}_shares_value_EUR'] - data['sum_invested']).round(2)\n",
    "data[f'{stock2}_profit'] = (data[f'{stock2}_shares_value_EUR'] - data['sum_invested']).round(2)\n",
    "\n",
    "data[f'{stock1}_profit_margin'] = (data[f'{stock1}_profit']/ data['sum_invested']).round(2)\n",
    "data[f'{stock2}_profit_margin'] = (data[f'{stock2}_profit']/ data['sum_invested']).round(2)\n",
    "\n",
    "data.tail(5)\n"
   ]
  },
  {
   "cell_type": "markdown",
   "id": "92f92d64",
   "metadata": {},
   "source": [
    "Let's look at how the value of the shares grew:"
   ]
  },
  {
   "cell_type": "code",
   "execution_count": 7,
   "id": "9f1351ce",
   "metadata": {},
   "outputs": [
    {
     "data": {
      "image/png": "[encoded data removed]",
      "text/plain": [
       "<Figure size 1000x500 with 1 Axes>"
      ]
     },
     "metadata": {},
     "output_type": "display_data"
    }
   ],
   "source": [
    "# Creating a line chart\n",
    "\n",
    "plt.style.use('dark_background') \n",
    "plt.figure(figsize=(10, 5))\n",
    "\n",
    "plt.plot(data.index, data[f'{stock1}_shares_value_EUR'], label= f'{stock1} Shares Value (EUR)', color='palegreen')\n",
    "plt.plot(data.index, data[f'{stock2}_shares_value_EUR'], label= f'{stock2} Shares Value (EUR)', color='deepskyblue')\n",
    "plt.plot(data.index, data['sum_invested'], label='Total Invested (EUR)', color='gold', linestyle='--')\n",
    "\n",
    "plt.title('Growth of Share Value Compared to Total Investment', fontsize=14)\n",
    "plt.xlabel('Date')\n",
    "plt.ylabel('EUR')\n",
    "plt.legend()\n",
    "plt.grid(False)\n",
    "\n",
    "plt.show()\n"
   ]
  },
  {
   "cell_type": "markdown",
   "id": "b205654d",
   "metadata": {},
   "source": [
    "RESULTS:"
   ]
  },
  {
   "cell_type": "code",
   "execution_count": 8,
   "id": "ab070922",
   "metadata": {},
   "outputs": [
    {
     "name": "stdout",
     "output_type": "stream",
     "text": [
      "Amount invested: 12800 EUR\n",
      "\n",
      "AAPL shares value: 16667.16 Eur\n",
      "NVDA shares value: 75697.67 Eur\n",
      "\n",
      "AAPL profit: 3867.16 Eur\n",
      "NVDA profit: 62897.67 Eur\n",
      "\n",
      "AAPL profit margin: 30.0 %\n",
      "NVDA profit margin: 491.0 %\n"
     ]
    }
   ],
   "source": [
    "\n",
    "print(f\"Amount invested: {data['sum_invested'].iloc[-1]} EUR\")\n",
    "print()\n",
    "print(f\"{stock1} shares value: {data.iloc[-1,10]} Eur\")\n",
    "print(f\"{stock2} shares value: {data.iloc[-1,11]} Eur\")\n",
    "print()\n",
    "print(f\"{stock1} profit: {data.iloc[-1,12]} Eur\")\n",
    "print(f\"{stock2} profit: {data.iloc[-1,13]} Eur\")\n",
    "print()\n",
    "print(f\"{stock1} profit margin: {(data.iloc[-1,14] * 100).round(2)} %\")\n",
    "print(f\"{stock2} profit margin: {(data.iloc[-1,15] * 100).round(2)} %\")"
   ]
  }
 ],
 "metadata": {
  "kernelspec": {
   "display_name": "Python 3",
   "language": "python",
   "name": "python3"
  },
  "language_info": {
   "codemirror_mode": {
    "name": "ipython",
    "version": 3
   },
   "file_extension": ".py",
   "mimetype": "text/x-python",
   "name": "python",
   "nbconvert_exporter": "python",
   "pygments_lexer": "ipython3",
   "version": "3.11.9"
  }
 },
 "nbformat": 4,
 "nbformat_minor": 5
}
